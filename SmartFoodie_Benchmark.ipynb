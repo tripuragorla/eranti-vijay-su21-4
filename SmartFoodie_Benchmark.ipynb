{
  "nbformat": 4,
  "nbformat_minor": 0,
  "metadata": {
    "colab": {
      "name": "SmartFoodie-Benchmark.ipynb",
      "provenance": []
    },
    "kernelspec": {
      "name": "python3",
      "display_name": "Python 3"
    },
    "language_info": {
      "name": "python"
    },
    "accelerator": "GPU",
    "widgets": {
      "application/vnd.jupyter.widget-state+json": {
        "cd372ed10b5645d7a401325b3fc6541f": {
          "model_module": "@jupyter-widgets/controls",
          "model_name": "HBoxModel",
          "model_module_version": "1.5.0",
          "state": {
            "_view_name": "HBoxView",
            "_dom_classes": [],
            "_model_name": "HBoxModel",
            "_view_module": "@jupyter-widgets/controls",
            "_model_module_version": "1.5.0",
            "_view_count": null,
            "_view_module_version": "1.5.0",
            "box_style": "",
            "layout": "IPY_MODEL_7da722c3499e4d64a5466cce62069aef",
            "_model_module": "@jupyter-widgets/controls",
            "children": [
              "IPY_MODEL_3a37e9b25df2457eaf0803341d5aecbd",
              "IPY_MODEL_4af6daafe44147aca965699471994b51",
              "IPY_MODEL_1a2be58aa2dd46b198ef078abe3650d2"
            ]
          }
        },
        "7da722c3499e4d64a5466cce62069aef": {
          "model_module": "@jupyter-widgets/base",
          "model_name": "LayoutModel",
          "model_module_version": "1.2.0",
          "state": {
            "_view_name": "LayoutView",
            "grid_template_rows": null,
            "right": null,
            "justify_content": null,
            "_view_module": "@jupyter-widgets/base",
            "overflow": null,
            "_model_module_version": "1.2.0",
            "_view_count": null,
            "flex_flow": null,
            "width": null,
            "min_width": null,
            "border": null,
            "align_items": null,
            "bottom": null,
            "_model_module": "@jupyter-widgets/base",
            "top": null,
            "grid_column": null,
            "overflow_y": null,
            "overflow_x": null,
            "grid_auto_flow": null,
            "grid_area": null,
            "grid_template_columns": null,
            "flex": null,
            "_model_name": "LayoutModel",
            "justify_items": null,
            "grid_row": null,
            "max_height": null,
            "align_content": null,
            "visibility": null,
            "align_self": null,
            "height": null,
            "min_height": null,
            "padding": null,
            "grid_auto_rows": null,
            "grid_gap": null,
            "max_width": null,
            "order": null,
            "_view_module_version": "1.2.0",
            "grid_template_areas": null,
            "object_position": null,
            "object_fit": null,
            "grid_auto_columns": null,
            "margin": null,
            "display": null,
            "left": null
          }
        },
        "3a37e9b25df2457eaf0803341d5aecbd": {
          "model_module": "@jupyter-widgets/controls",
          "model_name": "HTMLModel",
          "model_module_version": "1.5.0",
          "state": {
            "_view_name": "HTMLView",
            "style": "IPY_MODEL_1021eda73d5f499a998ad505880210cb",
            "_dom_classes": [],
            "description": "",
            "_model_name": "HTMLModel",
            "placeholder": "​",
            "_view_module": "@jupyter-widgets/controls",
            "_model_module_version": "1.5.0",
            "value": "100%",
            "_view_count": null,
            "_view_module_version": "1.5.0",
            "description_tooltip": null,
            "_model_module": "@jupyter-widgets/controls",
            "layout": "IPY_MODEL_0ae488178e2c4f8fb7adaadcdf8e1214"
          }
        },
        "4af6daafe44147aca965699471994b51": {
          "model_module": "@jupyter-widgets/controls",
          "model_name": "FloatProgressModel",
          "model_module_version": "1.5.0",
          "state": {
            "_view_name": "ProgressView",
            "style": "IPY_MODEL_9383bb8514964e27974e1ae762250ec9",
            "_dom_classes": [],
            "description": "",
            "_model_name": "FloatProgressModel",
            "bar_style": "success",
            "max": 102530333,
            "_view_module": "@jupyter-widgets/controls",
            "_model_module_version": "1.5.0",
            "value": 102530333,
            "_view_count": null,
            "_view_module_version": "1.5.0",
            "orientation": "horizontal",
            "min": 0,
            "description_tooltip": null,
            "_model_module": "@jupyter-widgets/controls",
            "layout": "IPY_MODEL_7fa0ece0b413435eaa492150ba700fb1"
          }
        },
        "1a2be58aa2dd46b198ef078abe3650d2": {
          "model_module": "@jupyter-widgets/controls",
          "model_name": "HTMLModel",
          "model_module_version": "1.5.0",
          "state": {
            "_view_name": "HTMLView",
            "style": "IPY_MODEL_e416c46d7aa44e39a6fc99bd9c571cdb",
            "_dom_classes": [],
            "description": "",
            "_model_name": "HTMLModel",
            "placeholder": "​",
            "_view_module": "@jupyter-widgets/controls",
            "_model_module_version": "1.5.0",
            "value": " 97.8M/97.8M [00:04&lt;00:00, 31.3MB/s]",
            "_view_count": null,
            "_view_module_version": "1.5.0",
            "description_tooltip": null,
            "_model_module": "@jupyter-widgets/controls",
            "layout": "IPY_MODEL_8e2bc47630d0458fab71cfb7c21dc487"
          }
        },
        "1021eda73d5f499a998ad505880210cb": {
          "model_module": "@jupyter-widgets/controls",
          "model_name": "DescriptionStyleModel",
          "model_module_version": "1.5.0",
          "state": {
            "_view_name": "StyleView",
            "_model_name": "DescriptionStyleModel",
            "description_width": "",
            "_view_module": "@jupyter-widgets/base",
            "_model_module_version": "1.5.0",
            "_view_count": null,
            "_view_module_version": "1.2.0",
            "_model_module": "@jupyter-widgets/controls"
          }
        },
        "0ae488178e2c4f8fb7adaadcdf8e1214": {
          "model_module": "@jupyter-widgets/base",
          "model_name": "LayoutModel",
          "model_module_version": "1.2.0",
          "state": {
            "_view_name": "LayoutView",
            "grid_template_rows": null,
            "right": null,
            "justify_content": null,
            "_view_module": "@jupyter-widgets/base",
            "overflow": null,
            "_model_module_version": "1.2.0",
            "_view_count": null,
            "flex_flow": null,
            "width": null,
            "min_width": null,
            "border": null,
            "align_items": null,
            "bottom": null,
            "_model_module": "@jupyter-widgets/base",
            "top": null,
            "grid_column": null,
            "overflow_y": null,
            "overflow_x": null,
            "grid_auto_flow": null,
            "grid_area": null,
            "grid_template_columns": null,
            "flex": null,
            "_model_name": "LayoutModel",
            "justify_items": null,
            "grid_row": null,
            "max_height": null,
            "align_content": null,
            "visibility": null,
            "align_self": null,
            "height": null,
            "min_height": null,
            "padding": null,
            "grid_auto_rows": null,
            "grid_gap": null,
            "max_width": null,
            "order": null,
            "_view_module_version": "1.2.0",
            "grid_template_areas": null,
            "object_position": null,
            "object_fit": null,
            "grid_auto_columns": null,
            "margin": null,
            "display": null,
            "left": null
          }
        },
        "9383bb8514964e27974e1ae762250ec9": {
          "model_module": "@jupyter-widgets/controls",
          "model_name": "ProgressStyleModel",
          "model_module_version": "1.5.0",
          "state": {
            "_view_name": "StyleView",
            "_model_name": "ProgressStyleModel",
            "description_width": "",
            "_view_module": "@jupyter-widgets/base",
            "_model_module_version": "1.5.0",
            "_view_count": null,
            "_view_module_version": "1.2.0",
            "bar_color": null,
            "_model_module": "@jupyter-widgets/controls"
          }
        },
        "7fa0ece0b413435eaa492150ba700fb1": {
          "model_module": "@jupyter-widgets/base",
          "model_name": "LayoutModel",
          "model_module_version": "1.2.0",
          "state": {
            "_view_name": "LayoutView",
            "grid_template_rows": null,
            "right": null,
            "justify_content": null,
            "_view_module": "@jupyter-widgets/base",
            "overflow": null,
            "_model_module_version": "1.2.0",
            "_view_count": null,
            "flex_flow": null,
            "width": null,
            "min_width": null,
            "border": null,
            "align_items": null,
            "bottom": null,
            "_model_module": "@jupyter-widgets/base",
            "top": null,
            "grid_column": null,
            "overflow_y": null,
            "overflow_x": null,
            "grid_auto_flow": null,
            "grid_area": null,
            "grid_template_columns": null,
            "flex": null,
            "_model_name": "LayoutModel",
            "justify_items": null,
            "grid_row": null,
            "max_height": null,
            "align_content": null,
            "visibility": null,
            "align_self": null,
            "height": null,
            "min_height": null,
            "padding": null,
            "grid_auto_rows": null,
            "grid_gap": null,
            "max_width": null,
            "order": null,
            "_view_module_version": "1.2.0",
            "grid_template_areas": null,
            "object_position": null,
            "object_fit": null,
            "grid_auto_columns": null,
            "margin": null,
            "display": null,
            "left": null
          }
        },
        "e416c46d7aa44e39a6fc99bd9c571cdb": {
          "model_module": "@jupyter-widgets/controls",
          "model_name": "DescriptionStyleModel",
          "model_module_version": "1.5.0",
          "state": {
            "_view_name": "StyleView",
            "_model_name": "DescriptionStyleModel",
            "description_width": "",
            "_view_module": "@jupyter-widgets/base",
            "_model_module_version": "1.5.0",
            "_view_count": null,
            "_view_module_version": "1.2.0",
            "_model_module": "@jupyter-widgets/controls"
          }
        },
        "8e2bc47630d0458fab71cfb7c21dc487": {
          "model_module": "@jupyter-widgets/base",
          "model_name": "LayoutModel",
          "model_module_version": "1.2.0",
          "state": {
            "_view_name": "LayoutView",
            "grid_template_rows": null,
            "right": null,
            "justify_content": null,
            "_view_module": "@jupyter-widgets/base",
            "overflow": null,
            "_model_module_version": "1.2.0",
            "_view_count": null,
            "flex_flow": null,
            "width": null,
            "min_width": null,
            "border": null,
            "align_items": null,
            "bottom": null,
            "_model_module": "@jupyter-widgets/base",
            "top": null,
            "grid_column": null,
            "overflow_y": null,
            "overflow_x": null,
            "grid_auto_flow": null,
            "grid_area": null,
            "grid_template_columns": null,
            "flex": null,
            "_model_name": "LayoutModel",
            "justify_items": null,
            "grid_row": null,
            "max_height": null,
            "align_content": null,
            "visibility": null,
            "align_self": null,
            "height": null,
            "min_height": null,
            "padding": null,
            "grid_auto_rows": null,
            "grid_gap": null,
            "max_width": null,
            "order": null,
            "_view_module_version": "1.2.0",
            "grid_template_areas": null,
            "object_position": null,
            "object_fit": null,
            "grid_auto_columns": null,
            "margin": null,
            "display": null,
            "left": null
          }
        }
      }
    }
  },
  "cells": [
    {
      "cell_type": "markdown",
      "metadata": {
        "id": "gngj0-sBjTbD"
      },
      "source": [
        "# Smart Foodie Benchmark Test Bed"
      ]
    },
    {
      "cell_type": "code",
      "metadata": {
        "colab": {
          "base_uri": "https://localhost:8080/"
        },
        "id": "c07QUgNW0Cdg",
        "outputId": "8c2ce7ca-a3a9-4e31-ab15-9e7009257b49"
      },
      "source": [
        "!rm -rf *\n",
        "!curl -O https://dl.fbaipublicfiles.com/inversecooking/modelbest.ckpt\n",
        "!curl -O https://raw.githubusercontent.com/tripuragorla/eranti-vijay-su21-4/master/ingr_vocab.pkl\n",
        "!curl -O https://raw.githubusercontent.com/tripuragorla/eranti-vijay-su21-4/master/instr_vocab.pkl\n",
        "!curl -O https://raw.githubusercontent.com/tripuragorla/eranti-vijay-su21-4/master/inversecooking.zip\n",
        "!curl -o ./pizza.jpg https://upload.wikimedia.org/wikipedia/commons/thumb/4/41/Margherita_-_Five50_Aria.jpg/1083px-Margherita_-_Five50_Aria.jpg\n",
        "!curl -o ./pasta.jpg https://upload.wikimedia.org/wikipedia/commons/d/dc/The_Only_Original_Alfredo_Sauce_with_Butter_and_Parmesano-Reggiano_Cheese.png\n",
        "!curl -o ./burger.jpg https://upload.wikimedia.org/wikipedia/commons/thumb/8/8f/NYC-Diner-Bacon-Cheeseburger.jpg/860px-NYC-Diner-Bacon-Cheeseburger.jpg"
      ],
      "execution_count": 1,
      "outputs": [
        {
          "output_type": "stream",
          "name": "stdout",
          "text": [
            "  % Total    % Received % Xferd  Average Speed   Time    Time     Time  Current\n",
            "                                 Dload  Upload   Total   Spent    Left  Speed\n",
            "100  396M  100  396M    0     0  26.2M      0  0:00:15  0:00:15 --:--:-- 27.9M\n",
            "  % Total    % Received % Xferd  Average Speed   Time    Time     Time  Current\n",
            "                                 Dload  Upload   Total   Spent    Left  Speed\n",
            "100 30658  100 30658    0     0   534k      0 --:--:-- --:--:-- --:--:--  534k\n",
            "  % Total    % Received % Xferd  Average Speed   Time    Time     Time  Current\n",
            "                                 Dload  Upload   Total   Spent    Left  Speed\n",
            "100  453k  100  453k    0     0  4017k      0 --:--:-- --:--:-- --:--:-- 4017k\n",
            "  % Total    % Received % Xferd  Average Speed   Time    Time     Time  Current\n",
            "                                 Dload  Upload   Total   Spent    Left  Speed\n",
            "100 35639  100 35639    0     0   457k      0 --:--:-- --:--:-- --:--:--  457k\n",
            "  % Total    % Received % Xferd  Average Speed   Time    Time     Time  Current\n",
            "                                 Dload  Upload   Total   Spent    Left  Speed\n",
            "100  171k  100  171k    0     0  1393k      0 --:--:-- --:--:-- --:--:-- 1393k\n",
            "  % Total    % Received % Xferd  Average Speed   Time    Time     Time  Current\n",
            "                                 Dload  Upload   Total   Spent    Left  Speed\n",
            "100  788k  100  788k    0     0  4956k      0 --:--:-- --:--:-- --:--:-- 4956k\n",
            "  % Total    % Received % Xferd  Average Speed   Time    Time     Time  Current\n",
            "                                 Dload  Upload   Total   Spent    Left  Speed\n",
            "100  133k  100  133k    0     0  1174k      0 --:--:-- --:--:-- --:--:-- 1174k\n"
          ]
        }
      ]
    },
    {
      "cell_type": "code",
      "metadata": {
        "colab": {
          "base_uri": "https://localhost:8080/"
        },
        "id": "FCObwIhKyk1d",
        "outputId": "596b6d6c-a6ef-4496-988d-2abb64f24752"
      },
      "source": [
        "import os\n",
        "\n",
        "!unzip -o inversecooking.zip -d \"inversecooking\"\n",
        "\n",
        "for root, dirs, files in os.walk(\"inversecooking\"):\n",
        "    for file in files:\n",
        "        path = root + \"/\" + file\n",
        "        %%load {path}\n",
        "        print(path)"
      ],
      "execution_count": 2,
      "outputs": [
        {
          "output_type": "stream",
          "name": "stdout",
          "text": [
            "Archive:  inversecooking.zip\n",
            "  inflating: inversecooking/build_vocab.py  \n",
            "  inflating: inversecooking/data_loader.py  \n",
            "   creating: inversecooking/utils/\n",
            "  inflating: inversecooking/utils/metrics.py  \n",
            "  inflating: inversecooking/utils/ims2file.py  \n",
            "  inflating: inversecooking/utils/output_utils.py  \n",
            "  inflating: inversecooking/utils/tb_visualizer.py  \n",
            "  inflating: inversecooking/model.py  \n",
            "  inflating: inversecooking/train.py  \n",
            "  inflating: inversecooking/sample.py  \n",
            "  inflating: inversecooking/args.py  \n",
            "   creating: inversecooking/modules/\n",
            "  inflating: inversecooking/modules/multihead_attention.py  \n",
            "  inflating: inversecooking/modules/encoder.py  \n",
            "  inflating: inversecooking/modules/transformer_decoder.py  \n",
            "  inflating: inversecooking/modules/utils.py  \n",
            "inversecooking/build_vocab.py\n",
            "inversecooking/train.py\n",
            "inversecooking/args.py\n",
            "inversecooking/sample.py\n",
            "inversecooking/model.py\n",
            "inversecooking/data_loader.py\n",
            "inversecooking/modules/multihead_attention.py\n",
            "inversecooking/modules/transformer_decoder.py\n",
            "inversecooking/modules/utils.py\n",
            "inversecooking/modules/encoder.py\n",
            "inversecooking/utils/tb_visualizer.py\n",
            "inversecooking/utils/ims2file.py\n",
            "inversecooking/utils/output_utils.py\n",
            "inversecooking/utils/metrics.py\n"
          ]
        }
      ]
    },
    {
      "cell_type": "code",
      "metadata": {
        "id": "e-36GDRMoJek"
      },
      "source": [
        "import pickle\n",
        "import sys\n",
        "import warnings\n",
        "from random import randint\n",
        "\n",
        "import torch\n",
        "from PIL import Image\n",
        "from torchvision import transforms\n",
        "\n",
        "from inversecooking.args import get_parser\n",
        "from inversecooking.model import get_model\n",
        "from inversecooking.utils.output_utils import prepare_output"
      ],
      "execution_count": 3,
      "outputs": []
    },
    {
      "cell_type": "code",
      "metadata": {
        "colab": {
          "base_uri": "https://localhost:8080/",
          "height": 84,
          "referenced_widgets": [
            "cd372ed10b5645d7a401325b3fc6541f",
            "7da722c3499e4d64a5466cce62069aef",
            "3a37e9b25df2457eaf0803341d5aecbd",
            "4af6daafe44147aca965699471994b51",
            "1a2be58aa2dd46b198ef078abe3650d2",
            "1021eda73d5f499a998ad505880210cb",
            "0ae488178e2c4f8fb7adaadcdf8e1214",
            "9383bb8514964e27974e1ae762250ec9",
            "7fa0ece0b413435eaa492150ba700fb1",
            "e416c46d7aa44e39a6fc99bd9c571cdb",
            "8e2bc47630d0458fab71cfb7c21dc487"
          ]
        },
        "id": "sZ41MvP9o0ob",
        "outputId": "0f981b1f-a51f-44c1-8805-6f77b28ce8d8"
      },
      "source": [
        "print(\"Initializing model...\", end=\"\")\n",
        "warnings.filterwarnings(\"ignore\")\n",
        "\n",
        "use_gpu = True\n",
        "device = torch.device(\"cuda\" if torch.cuda.is_available() and use_gpu else \"cpu\")\n",
        "map_loc = None if torch.cuda.is_available() and use_gpu else \"cpu\"\n",
        "\n",
        "ingrs_vocab = pickle.load(open(\"ingr_vocab.pkl\", \"rb\"))\n",
        "vocab = pickle.load(open(\"instr_vocab.pkl\", \"rb\"))\n",
        "ingr_vocab_size = len(ingrs_vocab)\n",
        "instrs_vocab_size = len(vocab)\n",
        "output_dim = instrs_vocab_size\n",
        "\n",
        "sys.argv = [\"\"]\n",
        "del sys\n",
        "args = get_parser()\n",
        "args.maxseqlen = 15\n",
        "args.ingrs_only = False\n",
        "\n",
        "model = get_model(args, ingr_vocab_size, instrs_vocab_size)\n",
        "model.load_state_dict(torch.load(\"modelbest.ckpt\", map_location=map_loc))\n",
        "model.to(device)\n",
        "model.eval()\n",
        "model.ingrs_only = False\n",
        "model.recipe_only = False\n",
        "\n",
        "transf_list_batch = [transforms.ToTensor(), transforms.Normalize((0.485, 0.456, 0.406), (0.229, 0.224, 0.225))]\n",
        "to_input_transf = transforms.Compose(transf_list_batch)\n",
        "\n",
        "greedy = [True, False, False, False]\n",
        "beam = [-1, -1, -1, -1]\n",
        "temperature = 1.0\n",
        "numgens = 1  # len(greedy)\n",
        "print(\"done!\")"
      ],
      "execution_count": 4,
      "outputs": [
        {
          "output_type": "stream",
          "name": "stdout",
          "text": [
            "Initializing model..."
          ]
        },
        {
          "output_type": "stream",
          "name": "stderr",
          "text": [
            "Downloading: \"https://download.pytorch.org/models/resnet50-0676ba61.pth\" to /root/.cache/torch/hub/checkpoints/resnet50-0676ba61.pth\n"
          ]
        },
        {
          "output_type": "display_data",
          "data": {
            "application/vnd.jupyter.widget-view+json": {
              "model_id": "cd372ed10b5645d7a401325b3fc6541f",
              "version_minor": 0,
              "version_major": 2
            },
            "text/plain": [
              "  0%|          | 0.00/97.8M [00:00<?, ?B/s]"
            ]
          },
          "metadata": {}
        },
        {
          "output_type": "stream",
          "name": "stdout",
          "text": [
            "done!\n"
          ]
        }
      ]
    },
    {
      "cell_type": "code",
      "metadata": {
        "id": "tHozBavho1Ss"
      },
      "source": [
        "def predict(path):\n",
        "    print(\"Running prediction on \" + path + \"...\", end=\"\")\n",
        "    preds = []\n",
        "\n",
        "    image = Image.open(path).convert(\"RGB\")\n",
        "\n",
        "    transf_list = [transforms.Resize(256), transforms.CenterCrop(224)]\n",
        "    transform = transforms.Compose(transf_list)\n",
        "\n",
        "    image_transf = transform(image)\n",
        "    image_tensor = to_input_transf(image_transf).unsqueeze(0).to(device)\n",
        "\n",
        "    for i in range(numgens):\n",
        "        with torch.no_grad():\n",
        "            outputs = model.sample(image_tensor, greedy=greedy[i],\n",
        "                                   temperature=temperature, beam=beam[i], true_ingrs=None)\n",
        "\n",
        "        ingr_ids = outputs[\"ingr_ids\"].cpu().numpy()\n",
        "        recipe_ids = outputs[\"recipe_ids\"].cpu().numpy()\n",
        "        outs, valid = prepare_output(recipe_ids[0], ingr_ids[0], ingrs_vocab, vocab)\n",
        "\n",
        "        ingredients = list(map(lambda ingredient: {\n",
        "            \"ingredient\": ingredient.replace(\"_\", \" \").title(),\n",
        "            \"carb\": randint(3, 30),\n",
        "            \"fat\": randint(6, 60),\n",
        "            \"cal\": randint(90, 900)\n",
        "        }, outs[\"ingrs\"]))\n",
        "\n",
        "        total = {\n",
        "            \"carb\": sum([i[\"carb\"] for i in ingredients]),\n",
        "            \"fat\": sum([i[\"fat\"] for i in ingredients]),\n",
        "            \"cal\": sum([i[\"cal\"] for i in ingredients])\n",
        "        }\n",
        "\n",
        "        preds.append({\n",
        "            \"title\": outs[\"title\"].title(),\n",
        "            \"ingredients\": ingredients,\n",
        "            \"total\": total,\n",
        "            \"recipe\": outs[\"recipe\"],\n",
        "            \"is_valid\": valid[\"is_valid\"]\n",
        "        })\n",
        "\n",
        "    print(\"done!\")\n",
        "    print(\"Predictions: \" + str(preds))\n",
        "    return preds"
      ],
      "execution_count": 5,
      "outputs": []
    },
    {
      "cell_type": "code",
      "metadata": {
        "id": "N4qkuH-04PXH",
        "colab": {
          "base_uri": "https://localhost:8080/"
        },
        "outputId": "849182ab-fbfe-4b61-d994-19896fbf93fb"
      },
      "source": [
        "%%timeit\n",
        "_ = predict(\"pizza.jpg\")"
      ],
      "execution_count": 6,
      "outputs": [
        {
          "output_type": "stream",
          "name": "stdout",
          "text": [
            "Running prediction on pizza.jpg...done!\n",
            "Predictions: [{'title': 'Tomato And Basil Pizza', 'ingredients': [{'ingredient': 'Cheese', 'carb': 23, 'fat': 27, 'cal': 644}, {'ingredient': 'Tomato', 'carb': 28, 'fat': 23, 'cal': 422}, {'ingredient': 'Pepper', 'carb': 18, 'fat': 39, 'cal': 98}, {'ingredient': 'Basil', 'carb': 18, 'fat': 14, 'cal': 257}, {'ingredient': 'Oil', 'carb': 4, 'fat': 20, 'cal': 664}, {'ingredient': 'Salt', 'carb': 27, 'fat': 59, 'cal': 640}, {'ingredient': 'Onion', 'carb': 27, 'fat': 7, 'cal': 674}], 'total': {'carb': 145, 'fat': 189, 'cal': 3399}, 'recipe': ['Preheat oven to 425 degrees f.', 'Spread tomato sauce on pizza crust.', 'Sprinkle with salt and pepper.', 'Top with mozzarella and basil.', 'Drizzle with olive oil.', 'Bake for 10 minutes or until cheese is melted and crust is golden brown.'], 'is_valid': True}]\n",
            "Running prediction on pizza.jpg...done!\n",
            "Predictions: [{'title': 'Tomato And Basil Pizza', 'ingredients': [{'ingredient': 'Cheese', 'carb': 30, 'fat': 11, 'cal': 170}, {'ingredient': 'Tomato', 'carb': 18, 'fat': 16, 'cal': 548}, {'ingredient': 'Pepper', 'carb': 23, 'fat': 6, 'cal': 401}, {'ingredient': 'Basil', 'carb': 29, 'fat': 31, 'cal': 678}, {'ingredient': 'Oil', 'carb': 27, 'fat': 26, 'cal': 345}, {'ingredient': 'Salt', 'carb': 14, 'fat': 16, 'cal': 325}, {'ingredient': 'Onion', 'carb': 15, 'fat': 11, 'cal': 487}], 'total': {'carb': 156, 'fat': 117, 'cal': 2954}, 'recipe': ['Preheat oven to 425 degrees f.', 'Spread tomato sauce on pizza crust.', 'Sprinkle with salt and pepper.', 'Top with mozzarella and basil.', 'Drizzle with olive oil.', 'Bake for 10 minutes or until cheese is melted and crust is golden brown.'], 'is_valid': True}]\n",
            "Running prediction on pizza.jpg...done!\n",
            "Predictions: [{'title': 'Tomato And Basil Pizza', 'ingredients': [{'ingredient': 'Cheese', 'carb': 26, 'fat': 53, 'cal': 554}, {'ingredient': 'Tomato', 'carb': 12, 'fat': 16, 'cal': 126}, {'ingredient': 'Pepper', 'carb': 29, 'fat': 54, 'cal': 144}, {'ingredient': 'Basil', 'carb': 29, 'fat': 46, 'cal': 301}, {'ingredient': 'Oil', 'carb': 12, 'fat': 42, 'cal': 367}, {'ingredient': 'Salt', 'carb': 5, 'fat': 55, 'cal': 445}, {'ingredient': 'Onion', 'carb': 9, 'fat': 26, 'cal': 179}], 'total': {'carb': 122, 'fat': 292, 'cal': 2116}, 'recipe': ['Preheat oven to 425 degrees f.', 'Spread tomato sauce on pizza crust.', 'Sprinkle with salt and pepper.', 'Top with mozzarella and basil.', 'Drizzle with olive oil.', 'Bake for 10 minutes or until cheese is melted and crust is golden brown.'], 'is_valid': True}]\n",
            "Running prediction on pizza.jpg...done!\n",
            "Predictions: [{'title': 'Tomato And Basil Pizza', 'ingredients': [{'ingredient': 'Cheese', 'carb': 26, 'fat': 59, 'cal': 586}, {'ingredient': 'Tomato', 'carb': 10, 'fat': 21, 'cal': 782}, {'ingredient': 'Pepper', 'carb': 20, 'fat': 32, 'cal': 755}, {'ingredient': 'Basil', 'carb': 18, 'fat': 56, 'cal': 311}, {'ingredient': 'Oil', 'carb': 17, 'fat': 51, 'cal': 430}, {'ingredient': 'Salt', 'carb': 27, 'fat': 18, 'cal': 240}, {'ingredient': 'Onion', 'carb': 4, 'fat': 33, 'cal': 191}], 'total': {'carb': 122, 'fat': 270, 'cal': 3295}, 'recipe': ['Preheat oven to 425 degrees f.', 'Spread tomato sauce on pizza crust.', 'Sprinkle with salt and pepper.', 'Top with mozzarella and basil.', 'Drizzle with olive oil.', 'Bake for 10 minutes or until cheese is melted and crust is golden brown.'], 'is_valid': True}]\n",
            "Running prediction on pizza.jpg...done!\n",
            "Predictions: [{'title': 'Tomato And Basil Pizza', 'ingredients': [{'ingredient': 'Cheese', 'carb': 22, 'fat': 14, 'cal': 587}, {'ingredient': 'Tomato', 'carb': 17, 'fat': 47, 'cal': 448}, {'ingredient': 'Pepper', 'carb': 28, 'fat': 12, 'cal': 544}, {'ingredient': 'Basil', 'carb': 12, 'fat': 23, 'cal': 614}, {'ingredient': 'Oil', 'carb': 26, 'fat': 14, 'cal': 420}, {'ingredient': 'Salt', 'carb': 28, 'fat': 35, 'cal': 839}, {'ingredient': 'Onion', 'carb': 3, 'fat': 51, 'cal': 887}], 'total': {'carb': 136, 'fat': 196, 'cal': 4339}, 'recipe': ['Preheat oven to 425 degrees f.', 'Spread tomato sauce on pizza crust.', 'Sprinkle with salt and pepper.', 'Top with mozzarella and basil.', 'Drizzle with olive oil.', 'Bake for 10 minutes or until cheese is melted and crust is golden brown.'], 'is_valid': True}]\n",
            "Running prediction on pizza.jpg...done!\n",
            "Predictions: [{'title': 'Tomato And Basil Pizza', 'ingredients': [{'ingredient': 'Cheese', 'carb': 21, 'fat': 6, 'cal': 219}, {'ingredient': 'Tomato', 'carb': 19, 'fat': 21, 'cal': 477}, {'ingredient': 'Pepper', 'carb': 5, 'fat': 39, 'cal': 804}, {'ingredient': 'Basil', 'carb': 30, 'fat': 36, 'cal': 765}, {'ingredient': 'Oil', 'carb': 6, 'fat': 60, 'cal': 181}, {'ingredient': 'Salt', 'carb': 24, 'fat': 26, 'cal': 431}, {'ingredient': 'Onion', 'carb': 20, 'fat': 49, 'cal': 292}], 'total': {'carb': 125, 'fat': 237, 'cal': 3169}, 'recipe': ['Preheat oven to 425 degrees f.', 'Spread tomato sauce on pizza crust.', 'Sprinkle with salt and pepper.', 'Top with mozzarella and basil.', 'Drizzle with olive oil.', 'Bake for 10 minutes or until cheese is melted and crust is golden brown.'], 'is_valid': True}]\n",
            "1 loop, best of 5: 4.62 s per loop\n"
          ]
        }
      ]
    },
    {
      "cell_type": "code",
      "metadata": {
        "id": "-EJ0aY8e-pF6",
        "colab": {
          "base_uri": "https://localhost:8080/"
        },
        "outputId": "f9f8ab30-0dac-48e7-be80-ea619205df22"
      },
      "source": [
        "%%timeit\n",
        "_ = predict(\"pasta.jpg\")"
      ],
      "execution_count": 7,
      "outputs": [
        {
          "output_type": "stream",
          "name": "stdout",
          "text": [
            "Running prediction on pasta.jpg...done!\n",
            "Predictions: [{'title': 'Creamy Parmesan Pasta', 'ingredients': [{'ingredient': 'Cheese', 'carb': 16, 'fat': 23, 'cal': 227}, {'ingredient': 'Pepper', 'carb': 22, 'fat': 43, 'cal': 733}, {'ingredient': 'Butter', 'carb': 24, 'fat': 35, 'cal': 229}, {'ingredient': 'Milk', 'carb': 23, 'fat': 33, 'cal': 389}, {'ingredient': 'Salt', 'carb': 4, 'fat': 29, 'cal': 656}, {'ingredient': 'Pasta', 'carb': 11, 'fat': 20, 'cal': 829}], 'total': {'carb': 100, 'fat': 183, 'cal': 3063}, 'recipe': ['Cook pasta according to package directions.', 'Drain.', 'Return to pan.', 'Add butter, milk, salt and pepper.', 'Stir until butter is melted.', 'Add parmesan cheese.', 'Toss to coat.'], 'is_valid': True}]\n",
            "Running prediction on pasta.jpg...done!\n",
            "Predictions: [{'title': 'Creamy Parmesan Pasta', 'ingredients': [{'ingredient': 'Cheese', 'carb': 11, 'fat': 45, 'cal': 483}, {'ingredient': 'Pepper', 'carb': 3, 'fat': 19, 'cal': 830}, {'ingredient': 'Butter', 'carb': 30, 'fat': 10, 'cal': 237}, {'ingredient': 'Milk', 'carb': 29, 'fat': 10, 'cal': 507}, {'ingredient': 'Salt', 'carb': 23, 'fat': 60, 'cal': 892}, {'ingredient': 'Pasta', 'carb': 25, 'fat': 28, 'cal': 663}], 'total': {'carb': 121, 'fat': 172, 'cal': 3612}, 'recipe': ['Cook pasta according to package directions.', 'Drain.', 'Return to pan.', 'Add butter, milk, salt and pepper.', 'Stir until butter is melted.', 'Add parmesan cheese.', 'Toss to coat.'], 'is_valid': True}]\n",
            "Running prediction on pasta.jpg...done!\n",
            "Predictions: [{'title': 'Creamy Parmesan Pasta', 'ingredients': [{'ingredient': 'Cheese', 'carb': 13, 'fat': 13, 'cal': 796}, {'ingredient': 'Pepper', 'carb': 18, 'fat': 48, 'cal': 229}, {'ingredient': 'Butter', 'carb': 29, 'fat': 30, 'cal': 584}, {'ingredient': 'Milk', 'carb': 9, 'fat': 60, 'cal': 251}, {'ingredient': 'Salt', 'carb': 4, 'fat': 51, 'cal': 744}, {'ingredient': 'Pasta', 'carb': 15, 'fat': 14, 'cal': 820}], 'total': {'carb': 88, 'fat': 216, 'cal': 3424}, 'recipe': ['Cook pasta according to package directions.', 'Drain.', 'Return to pan.', 'Add butter, milk, salt and pepper.', 'Stir until butter is melted.', 'Add parmesan cheese.', 'Toss to coat.'], 'is_valid': True}]\n",
            "Running prediction on pasta.jpg...done!\n",
            "Predictions: [{'title': 'Creamy Parmesan Pasta', 'ingredients': [{'ingredient': 'Cheese', 'carb': 21, 'fat': 44, 'cal': 647}, {'ingredient': 'Pepper', 'carb': 11, 'fat': 43, 'cal': 190}, {'ingredient': 'Butter', 'carb': 22, 'fat': 41, 'cal': 90}, {'ingredient': 'Milk', 'carb': 6, 'fat': 22, 'cal': 339}, {'ingredient': 'Salt', 'carb': 7, 'fat': 30, 'cal': 871}, {'ingredient': 'Pasta', 'carb': 18, 'fat': 57, 'cal': 143}], 'total': {'carb': 85, 'fat': 237, 'cal': 2280}, 'recipe': ['Cook pasta according to package directions.', 'Drain.', 'Return to pan.', 'Add butter, milk, salt and pepper.', 'Stir until butter is melted.', 'Add parmesan cheese.', 'Toss to coat.'], 'is_valid': True}]\n",
            "Running prediction on pasta.jpg...done!\n",
            "Predictions: [{'title': 'Creamy Parmesan Pasta', 'ingredients': [{'ingredient': 'Cheese', 'carb': 17, 'fat': 37, 'cal': 521}, {'ingredient': 'Pepper', 'carb': 7, 'fat': 46, 'cal': 349}, {'ingredient': 'Butter', 'carb': 29, 'fat': 53, 'cal': 590}, {'ingredient': 'Milk', 'carb': 26, 'fat': 20, 'cal': 209}, {'ingredient': 'Salt', 'carb': 30, 'fat': 35, 'cal': 204}, {'ingredient': 'Pasta', 'carb': 10, 'fat': 22, 'cal': 435}], 'total': {'carb': 119, 'fat': 213, 'cal': 2308}, 'recipe': ['Cook pasta according to package directions.', 'Drain.', 'Return to pan.', 'Add butter, milk, salt and pepper.', 'Stir until butter is melted.', 'Add parmesan cheese.', 'Toss to coat.'], 'is_valid': True}]\n",
            "Running prediction on pasta.jpg...done!\n",
            "Predictions: [{'title': 'Creamy Parmesan Pasta', 'ingredients': [{'ingredient': 'Cheese', 'carb': 28, 'fat': 57, 'cal': 767}, {'ingredient': 'Pepper', 'carb': 11, 'fat': 36, 'cal': 698}, {'ingredient': 'Butter', 'carb': 24, 'fat': 26, 'cal': 131}, {'ingredient': 'Milk', 'carb': 6, 'fat': 29, 'cal': 643}, {'ingredient': 'Salt', 'carb': 30, 'fat': 14, 'cal': 169}, {'ingredient': 'Pasta', 'carb': 27, 'fat': 17, 'cal': 829}], 'total': {'carb': 126, 'fat': 179, 'cal': 3237}, 'recipe': ['Cook pasta according to package directions.', 'Drain.', 'Return to pan.', 'Add butter, milk, salt and pepper.', 'Stir until butter is melted.', 'Add parmesan cheese.', 'Toss to coat.'], 'is_valid': True}]\n",
            "1 loop, best of 5: 4.69 s per loop\n"
          ]
        }
      ]
    },
    {
      "cell_type": "code",
      "metadata": {
        "id": "Q-ja1QU2APyl",
        "colab": {
          "base_uri": "https://localhost:8080/"
        },
        "outputId": "d1d171b6-5e26-4a71-8a5f-216f997ea3e9"
      },
      "source": [
        "%%timeit\n",
        "_ = predict(\"burger.jpg\")"
      ],
      "execution_count": 8,
      "outputs": [
        {
          "output_type": "stream",
          "name": "stdout",
          "text": [
            "Running prediction on burger.jpg...done!\n",
            "Predictions: [{'title': 'Cheesy Burger', 'ingredients': [{'ingredient': 'Cheese', 'carb': 4, 'fat': 37, 'cal': 578}, {'ingredient': 'Bun', 'carb': 10, 'fat': 8, 'cal': 120}, {'ingredient': 'Pepper', 'carb': 28, 'fat': 11, 'cal': 672}, {'ingredient': 'Onion', 'carb': 5, 'fat': 44, 'cal': 700}, {'ingredient': 'Beef', 'carb': 8, 'fat': 8, 'cal': 689}], 'total': {'carb': 55, 'fat': 108, 'cal': 2759}, 'recipe': ['Heat grill to medium heat.', 'Mix meat, onions and peppers; shape into 4 (1/2-inch-thick) patties.', 'Grill patties 5 to 6 min.', 'On each side or until done (160f).', 'Top with cheese; grill 1 min.', 'Or until melted.', 'Fill buns with cheeseburgers and remaining ingredients.'], 'is_valid': True}]\n",
            "Running prediction on burger.jpg...done!\n",
            "Predictions: [{'title': 'Cheesy Burger', 'ingredients': [{'ingredient': 'Cheese', 'carb': 9, 'fat': 17, 'cal': 379}, {'ingredient': 'Bun', 'carb': 26, 'fat': 19, 'cal': 698}, {'ingredient': 'Pepper', 'carb': 7, 'fat': 30, 'cal': 770}, {'ingredient': 'Onion', 'carb': 29, 'fat': 41, 'cal': 211}, {'ingredient': 'Beef', 'carb': 19, 'fat': 12, 'cal': 283}], 'total': {'carb': 90, 'fat': 119, 'cal': 2341}, 'recipe': ['Heat grill to medium heat.', 'Mix meat, onions and peppers; shape into 4 (1/2-inch-thick) patties.', 'Grill patties 5 to 6 min.', 'On each side or until done (160f).', 'Top with cheese; grill 1 min.', 'Or until melted.', 'Fill buns with cheeseburgers and remaining ingredients.'], 'is_valid': True}]\n",
            "Running prediction on burger.jpg...done!\n",
            "Predictions: [{'title': 'Cheesy Burger', 'ingredients': [{'ingredient': 'Cheese', 'carb': 7, 'fat': 34, 'cal': 529}, {'ingredient': 'Bun', 'carb': 16, 'fat': 41, 'cal': 227}, {'ingredient': 'Pepper', 'carb': 29, 'fat': 9, 'cal': 773}, {'ingredient': 'Onion', 'carb': 10, 'fat': 52, 'cal': 486}, {'ingredient': 'Beef', 'carb': 7, 'fat': 10, 'cal': 195}], 'total': {'carb': 69, 'fat': 146, 'cal': 2210}, 'recipe': ['Heat grill to medium heat.', 'Mix meat, onions and peppers; shape into 4 (1/2-inch-thick) patties.', 'Grill patties 5 to 6 min.', 'On each side or until done (160f).', 'Top with cheese; grill 1 min.', 'Or until melted.', 'Fill buns with cheeseburgers and remaining ingredients.'], 'is_valid': True}]\n",
            "Running prediction on burger.jpg...done!\n",
            "Predictions: [{'title': 'Cheesy Burger', 'ingredients': [{'ingredient': 'Cheese', 'carb': 27, 'fat': 58, 'cal': 564}, {'ingredient': 'Bun', 'carb': 15, 'fat': 37, 'cal': 884}, {'ingredient': 'Pepper', 'carb': 26, 'fat': 44, 'cal': 446}, {'ingredient': 'Onion', 'carb': 25, 'fat': 53, 'cal': 657}, {'ingredient': 'Beef', 'carb': 21, 'fat': 29, 'cal': 641}], 'total': {'carb': 114, 'fat': 221, 'cal': 3192}, 'recipe': ['Heat grill to medium heat.', 'Mix meat, onions and peppers; shape into 4 (1/2-inch-thick) patties.', 'Grill patties 5 to 6 min.', 'On each side or until done (160f).', 'Top with cheese; grill 1 min.', 'Or until melted.', 'Fill buns with cheeseburgers and remaining ingredients.'], 'is_valid': True}]\n",
            "Running prediction on burger.jpg...done!\n",
            "Predictions: [{'title': 'Cheesy Burger', 'ingredients': [{'ingredient': 'Cheese', 'carb': 16, 'fat': 30, 'cal': 389}, {'ingredient': 'Bun', 'carb': 18, 'fat': 33, 'cal': 598}, {'ingredient': 'Pepper', 'carb': 23, 'fat': 8, 'cal': 389}, {'ingredient': 'Onion', 'carb': 3, 'fat': 13, 'cal': 161}, {'ingredient': 'Beef', 'carb': 29, 'fat': 37, 'cal': 356}], 'total': {'carb': 89, 'fat': 121, 'cal': 1893}, 'recipe': ['Heat grill to medium heat.', 'Mix meat, onions and peppers; shape into 4 (1/2-inch-thick) patties.', 'Grill patties 5 to 6 min.', 'On each side or until done (160f).', 'Top with cheese; grill 1 min.', 'Or until melted.', 'Fill buns with cheeseburgers and remaining ingredients.'], 'is_valid': True}]\n",
            "Running prediction on burger.jpg...done!\n",
            "Predictions: [{'title': 'Cheesy Burger', 'ingredients': [{'ingredient': 'Cheese', 'carb': 8, 'fat': 17, 'cal': 643}, {'ingredient': 'Bun', 'carb': 9, 'fat': 41, 'cal': 853}, {'ingredient': 'Pepper', 'carb': 22, 'fat': 20, 'cal': 148}, {'ingredient': 'Onion', 'carb': 13, 'fat': 39, 'cal': 197}, {'ingredient': 'Beef', 'carb': 9, 'fat': 9, 'cal': 548}], 'total': {'carb': 61, 'fat': 126, 'cal': 2389}, 'recipe': ['Heat grill to medium heat.', 'Mix meat, onions and peppers; shape into 4 (1/2-inch-thick) patties.', 'Grill patties 5 to 6 min.', 'On each side or until done (160f).', 'Top with cheese; grill 1 min.', 'Or until melted.', 'Fill buns with cheeseburgers and remaining ingredients.'], 'is_valid': True}]\n",
            "1 loop, best of 5: 4.73 s per loop\n"
          ]
        }
      ]
    }
  ]
}